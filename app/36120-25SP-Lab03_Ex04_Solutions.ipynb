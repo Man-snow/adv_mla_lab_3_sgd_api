{
 "cells": [
  {
   "cell_type": "markdown",
   "metadata": {
    "id": "uQ6wc2HE0pke"
   },
   "source": [
    "# **Lab: Model Serving**\n",
    "\n"
   ]
  },
  {
   "cell_type": "markdown",
   "metadata": {
    "id": "tQgxLRrvjiJb"
   },
   "source": [
    "## Exercise 4: Build FastAPI\n",
    "\n",
    "We will create a web app for serving our trained model from last exercise.\n",
    "\n",
    "**Pre-requisites:**\n",
    "- Create a github account (https://education.github.com/pack)\n",
    "- Install git (https://git-scm.com/book/en/v2/Getting-Started-Installing-Git)\n",
    "\n",
    "The steps are:\n",
    "1.   Setup Repository\n",
    "2.   Install Dependencies\n",
    "3.   Build FastApi app\n",
    "4.   Interact with FastAPI\n",
    "5.   Push Changes\n"
   ]
  },
  {
   "cell_type": "markdown",
   "metadata": {
    "id": "smh_LhVjIg9s"
   },
   "source": [
    "### 1. Setup Repository"
   ]
  },
  {
   "cell_type": "markdown",
   "metadata": {
    "id": "_fTLEcebNjhz"
   },
   "source": [
    "**[1.1]** Go to a folder of your choice on your computer (where you store projects)"
   ]
  },
  {
   "cell_type": "code",
   "execution_count": null,
   "metadata": {
    "id": "Pe-loIVTNjqW"
   },
   "outputs": [],
   "source": [
    "# Placeholder for student's code (command line)"
   ]
  },
  {
   "cell_type": "code",
   "execution_count": null,
   "metadata": {
    "id": "4dL8A5y-NjtY"
   },
   "outputs": [],
   "source": [
    "#Solution:\n",
    "cd ~/Projects/adv_mla_2025"
   ]
  },
  {
   "cell_type": "markdown",
   "metadata": {
    "id": "EHQBJUHEQqcs"
   },
   "source": [
    "**[1.2]** Create a folder called `lab3_api` and go inside the created folder"
   ]
  },
  {
   "cell_type": "code",
   "execution_count": null,
   "metadata": {
    "id": "bM-1oZYxQqmO"
   },
   "outputs": [],
   "source": [
    "# Placeholder for student's code (command line)"
   ]
  },
  {
   "cell_type": "code",
   "execution_count": null,
   "metadata": {
    "id": "TbseMHf7Qqo2"
   },
   "outputs": [],
   "source": [
    "#Solution:\n",
    "mkdir lab3_api\n",
    "cd lab3_api"
   ]
  },
  {
   "cell_type": "markdown",
   "metadata": {
    "id": "f2k37MGDMVte"
   },
   "source": [
    "**[1.3]** Copy the `models/sgd_pipeline.joblib` file from previous exercise into the models folder"
   ]
  },
  {
   "cell_type": "code",
   "execution_count": null,
   "metadata": {
    "id": "4VNddaBFMV7j"
   },
   "outputs": [],
   "source": [
    "# Placeholder for student's code (command line)"
   ]
  },
  {
   "cell_type": "code",
   "execution_count": null,
   "metadata": {
    "id": "JehayVOIMV_E"
   },
   "outputs": [],
   "source": [
    "#Solution:\n",
    "mkdir models\n",
    "cp ../adv_mla_lab_3/models/sgd_pipeline.joblib models"
   ]
  },
  {
   "cell_type": "markdown",
   "metadata": {
    "id": "4MCoAnnacjS1"
   },
   "source": [
    "**[1.4]** Initialise the repo"
   ]
  },
  {
   "cell_type": "code",
   "execution_count": null,
   "metadata": {
    "id": "P-TPhgLMcjaL"
   },
   "outputs": [],
   "source": [
    "# Placeholder for student's code (command line)"
   ]
  },
  {
   "cell_type": "code",
   "execution_count": null,
   "metadata": {
    "id": "jTTOWPgjckKe"
   },
   "outputs": [],
   "source": [
    "#Solution:\n",
    "git init"
   ]
  },
  {
   "cell_type": "markdown",
   "metadata": {
    "id": "hGw8ot1UdHqg"
   },
   "source": [
    "**[1.5]** Login into Github with your account (https://github.com/) and create a public repo with the name `adv_mla_lab_3_sgd_api`"
   ]
  },
  {
   "cell_type": "markdown",
   "metadata": {
    "id": "jD4H0EtCdDFr"
   },
   "source": [
    "**[1.6]** In your local repo `api`, link it with Github (replace the url with your username)"
   ]
  },
  {
   "cell_type": "code",
   "execution_count": null,
   "metadata": {
    "id": "_3fCS9HtdDNw"
   },
   "outputs": [],
   "source": [
    "# Placeholder for student's code (command line)"
   ]
  },
  {
   "cell_type": "code",
   "execution_count": null,
   "metadata": {
    "id": "lpxHoo3SdDQo"
   },
   "outputs": [],
   "source": [
    "#Solution:\n",
    "git remote add origin git@github.com:<username>/adv_mla_lab_3_sgd_api"
   ]
  },
  {
   "cell_type": "markdown",
   "metadata": {
    "id": "E7Ae6ABgURiV"
   },
   "source": [
    "**[1.7]** Add you changes to git staging area and commit them"
   ]
  },
  {
   "cell_type": "code",
   "execution_count": null,
   "metadata": {
    "id": "UKqsaMVlURsb"
   },
   "outputs": [],
   "source": [
    "# Placeholder for student's code (command line)"
   ]
  },
  {
   "cell_type": "code",
   "execution_count": null,
   "metadata": {
    "id": "wUTBEa57URvJ"
   },
   "outputs": [],
   "source": [
    "#Solution:\n",
    "git add .\n",
    "git commit -m \"init\""
   ]
  },
  {
   "cell_type": "markdown",
   "metadata": {
    "id": "3oRUjdX0dbBu"
   },
   "source": [
    "**[1.8]** Push your master branch to origin"
   ]
  },
  {
   "cell_type": "code",
   "execution_count": null,
   "metadata": {
    "id": "1UzrKvGtdbGy"
   },
   "outputs": [],
   "source": [
    "# Placeholder for student's code (command line)"
   ]
  },
  {
   "cell_type": "code",
   "execution_count": null,
   "metadata": {
    "id": "Wv0pkcLkdbPL"
   },
   "outputs": [],
   "source": [
    "# Solution:\n",
    "git push --set-upstream origin main"
   ]
  },
  {
   "cell_type": "markdown",
   "metadata": {
    "id": "X6qeQSazZ8Pn"
   },
   "source": [
    "### 2. Install Dependencies"
   ]
  },
  {
   "cell_type": "markdown",
   "metadata": {
    "id": "jxQRDLu2C6D4"
   },
   "source": [
    "**[2.1]** Create a new git branch called `fastapi`"
   ]
  },
  {
   "cell_type": "code",
   "execution_count": null,
   "metadata": {
    "id": "y-S-ZdcqdoF7"
   },
   "outputs": [],
   "source": [
    "# Placeholder for student's code (command line)"
   ]
  },
  {
   "cell_type": "code",
   "execution_count": null,
   "metadata": {
    "id": "zBD6K4MXC6rA"
   },
   "outputs": [],
   "source": [
    "# Solution:\n",
    "git checkout -b fastapi"
   ]
  },
  {
   "cell_type": "markdown",
   "metadata": {
    "id": "8-T15v2gXmu6"
   },
   "source": [
    "**[2.2]** Set the python version to 3.11.4 with pyenv"
   ]
  },
  {
   "cell_type": "code",
   "execution_count": null,
   "metadata": {
    "id": "aE_8eJWlXmu6"
   },
   "outputs": [],
   "source": [
    "# Placeholder for student's code (command line)"
   ]
  },
  {
   "cell_type": "code",
   "execution_count": null,
   "metadata": {
    "id": "PjbqPeVtXmu6"
   },
   "outputs": [],
   "source": [
    "# Solution:\n",
    "pyenv local 3.11.4"
   ]
  },
  {
   "cell_type": "markdown",
   "metadata": {
    "id": "fll5Lkf-Xmu6"
   },
   "source": [
    "**[2.3]** Initialise poetry project with python==~3.11 and no dependencies installed"
   ]
  },
  {
   "cell_type": "code",
   "execution_count": null,
   "metadata": {
    "id": "GpGvnKQSXmu6"
   },
   "outputs": [],
   "source": [
    "# Placeholder for student's code (command line)"
   ]
  },
  {
   "cell_type": "code",
   "execution_count": null,
   "metadata": {
    "id": "ShAfB3kPXmu6"
   },
   "outputs": [],
   "source": [
    "# Solution\n",
    "poetry init"
   ]
  },
  {
   "cell_type": "markdown",
   "metadata": {
    "id": "844V13ChVvER"
   },
   "source": [
    "**[2.4]** Install with poetry the following packages:\n",
    "```\n",
    "scikit-learn==1.5.1\n",
    "pandas==2.2.2\n",
    "fastapi==0.111.0\n",
    "uvicorn==0.30.1\n",
    "joblib==1.4.2\n",
    "```"
   ]
  },
  {
   "cell_type": "code",
   "execution_count": null,
   "metadata": {
    "id": "Bk8J-nW_WeOb"
   },
   "outputs": [],
   "source": [
    "# Placeholder for student's code (command line)"
   ]
  },
  {
   "cell_type": "code",
   "execution_count": null,
   "metadata": {
    "id": "JKxxxokNWeX4"
   },
   "outputs": [],
   "source": [
    "# Solution\n",
    "poetry add pandas==2.2.2 scikit-learn==1.5.1 fastapi==0.111.0 uvicorn==0.30.1 joblib==1.4.2"
   ]
  },
  {
   "cell_type": "markdown",
   "metadata": {
    "id": "uxQriIRUXmu6"
   },
   "source": [
    "### 3. Build FastApi app"
   ]
  },
  {
   "cell_type": "markdown",
   "metadata": {
    "id": "elPnd9JPQwkD"
   },
   "source": [
    "**[3.1]** Create a folder called `app`"
   ]
  },
  {
   "cell_type": "code",
   "execution_count": null,
   "metadata": {
    "id": "5VlHqFVqQwuC"
   },
   "outputs": [],
   "source": [
    "# Placeholder for student's code (command line)"
   ]
  },
  {
   "cell_type": "code",
   "execution_count": null,
   "metadata": {
    "id": "df9ydWQNQww0"
   },
   "outputs": [],
   "source": [
    "# Solution:\n",
    "mkdir app"
   ]
  },
  {
   "cell_type": "markdown",
   "metadata": {
    "id": "hkvRJNc7bLgG"
   },
   "source": [
    "**[3.2]** Create a file called `main.py` in the `app` folder"
   ]
  },
  {
   "cell_type": "code",
   "execution_count": null,
   "metadata": {
    "id": "d2Hf5vFQbLpC"
   },
   "outputs": [],
   "source": [
    "# Placeholder for student's code (command line)"
   ]
  },
  {
   "cell_type": "code",
   "execution_count": null,
   "metadata": {
    "id": "ra_c0rU3bLr1"
   },
   "outputs": [],
   "source": [
    "# Solution:\n",
    "vi app/main.py"
   ]
  },
  {
   "cell_type": "markdown",
   "metadata": {
    "id": "Fgtw-6bjbcm_"
   },
   "source": [
    "**[3.3]** Inside the `main.py` file, import FastAPI from fastapi, JSONResponse from starlette.responses, load from joblib and pandas"
   ]
  },
  {
   "cell_type": "code",
   "execution_count": null,
   "metadata": {
    "id": "xACZy7_Kbcxb"
   },
   "outputs": [],
   "source": [
    "# Placeholder for student's code (Python code)"
   ]
  },
  {
   "cell_type": "code",
   "execution_count": 1,
   "metadata": {
    "id": "RIS1P4oUbc2y"
   },
   "outputs": [],
   "source": [
    "# Solution:\n",
    "from fastapi import FastAPI\n",
    "from starlette.responses import JSONResponse\n",
    "from joblib import load\n",
    "import pandas as pd"
   ]
  },
  {
   "cell_type": "markdown",
   "metadata": {
    "id": "aE6WZ2EZb5NX"
   },
   "source": [
    "**[3.4]** Inside the `main.py` file, instantiate a FastAPI() class and save it into a variable called `app`"
   ]
  },
  {
   "cell_type": "code",
   "execution_count": null,
   "metadata": {
    "id": "QnfxnRA0b5Vd"
   },
   "outputs": [],
   "source": [
    "# Placeholder for student's code (Python code)"
   ]
  },
  {
   "cell_type": "code",
   "execution_count": 2,
   "metadata": {
    "id": "Kove3Um4b5Ya"
   },
   "outputs": [],
   "source": [
    "# Solution:\n",
    "app = FastAPI()"
   ]
  },
  {
   "cell_type": "markdown",
   "metadata": {
    "id": "858kwGWwcLGm"
   },
   "source": [
    "**[3.4]** Inside the `main.py` file, load your trained model from `models` folder and save it into a variable called `sgd_pipe`"
   ]
  },
  {
   "cell_type": "code",
   "execution_count": 3,
   "metadata": {
    "id": "8pne9w7hcLMZ"
   },
   "outputs": [],
   "source": [
    "# Placeholder for student's code (Python code)"
   ]
  },
  {
   "cell_type": "code",
   "execution_count": 4,
   "metadata": {
    "id": "d2mnwsgFcLPY"
   },
   "outputs": [
    {
     "ename": "FileNotFoundError",
     "evalue": "[Errno 2] No such file or directory: 'models/sgd_pipeline.joblib'",
     "output_type": "error",
     "traceback": [
      "\u001b[31m---------------------------------------------------------------------------\u001b[39m",
      "\u001b[31mFileNotFoundError\u001b[39m                         Traceback (most recent call last)",
      "\u001b[36mCell\u001b[39m\u001b[36m \u001b[39m\u001b[32mIn[4]\u001b[39m\u001b[32m, line 2\u001b[39m\n\u001b[32m      1\u001b[39m \u001b[38;5;66;03m# Solution:\u001b[39;00m\n\u001b[32m----> \u001b[39m\u001b[32m2\u001b[39m sgd_pipe = \u001b[43mload\u001b[49m\u001b[43m(\u001b[49m\u001b[33;43m'\u001b[39;49m\u001b[33;43mmodels/sgd_pipeline.joblib\u001b[39;49m\u001b[33;43m'\u001b[39;49m\u001b[43m)\u001b[49m\n",
      "\u001b[36mFile \u001b[39m\u001b[32m~/.cache/pypoetry/virtualenvs/lab3-api-UGTgQ8Ty-py3.11/lib/python3.11/site-packages/joblib/numpy_pickle.py:650\u001b[39m, in \u001b[36mload\u001b[39m\u001b[34m(filename, mmap_mode)\u001b[39m\n\u001b[32m    648\u001b[39m         obj = _unpickle(fobj)\n\u001b[32m    649\u001b[39m \u001b[38;5;28;01melse\u001b[39;00m:\n\u001b[32m--> \u001b[39m\u001b[32m650\u001b[39m     \u001b[38;5;28;01mwith\u001b[39;00m \u001b[38;5;28;43mopen\u001b[39;49m\u001b[43m(\u001b[49m\u001b[43mfilename\u001b[49m\u001b[43m,\u001b[49m\u001b[43m \u001b[49m\u001b[33;43m'\u001b[39;49m\u001b[33;43mrb\u001b[39;49m\u001b[33;43m'\u001b[39;49m\u001b[43m)\u001b[49m \u001b[38;5;28;01mas\u001b[39;00m f:\n\u001b[32m    651\u001b[39m         \u001b[38;5;28;01mwith\u001b[39;00m _read_fileobject(f, filename, mmap_mode) \u001b[38;5;28;01mas\u001b[39;00m fobj:\n\u001b[32m    652\u001b[39m             \u001b[38;5;28;01mif\u001b[39;00m \u001b[38;5;28misinstance\u001b[39m(fobj, \u001b[38;5;28mstr\u001b[39m):\n\u001b[32m    653\u001b[39m                 \u001b[38;5;66;03m# if the returned file object is a string, this means we\u001b[39;00m\n\u001b[32m    654\u001b[39m                 \u001b[38;5;66;03m# try to load a pickle file generated with an version of\u001b[39;00m\n\u001b[32m    655\u001b[39m                 \u001b[38;5;66;03m# Joblib so we load it with joblib compatibility function.\u001b[39;00m\n",
      "\u001b[31mFileNotFoundError\u001b[39m: [Errno 2] No such file or directory: 'models/sgd_pipeline.joblib'"
     ]
    }
   ],
   "source": [
    "# Solution:\n",
    "sgd_pipe = load('models/sgd_pipeline.joblib')"
   ]
  },
  {
   "cell_type": "markdown",
   "metadata": {
    "id": "jkw62HxwcZei"
   },
   "source": [
    "**[3.6]** Inside the `main.py` file, create a function called `read_root()` that will return a dictionary with `Hello` as key and `World` as value. Add a decorator to it in order to add a GET endpoint to `app` on the root"
   ]
  },
  {
   "cell_type": "code",
   "execution_count": null,
   "metadata": {
    "id": "NsSwgeGXcZm1"
   },
   "outputs": [],
   "source": [
    "# Placeholder for student's code (Python code)"
   ]
  },
  {
   "cell_type": "code",
   "execution_count": null,
   "metadata": {
    "id": "aTEPhGJPcZ0Z"
   },
   "outputs": [],
   "source": [
    "# Solution:\n",
    "@app.get(\"/\")\n",
    "def read_root():\n",
    "    return {\"Hello\": \"World\"}"
   ]
  },
  {
   "cell_type": "markdown",
   "metadata": {
    "id": "vaXTLlJHdEet"
   },
   "source": [
    "**[3.7]** Inside the `main.py` file, create a function called `healthcheck()` that will return `SGDClassifier is all ready to go!`. Add a decorator to it in order to add a GET endpoint to `app` on `/health` with status code `200`"
   ]
  },
  {
   "cell_type": "code",
   "execution_count": null,
   "metadata": {
    "id": "30DYrAzBdElu"
   },
   "outputs": [],
   "source": [
    "# Placeholder for student's code (Python code)"
   ]
  },
  {
   "cell_type": "code",
   "execution_count": null,
   "metadata": {
    "id": "0gICH-K_dEn_"
   },
   "outputs": [],
   "source": [
    "# Solution:\n",
    "@app.get('/health', status_code=200)\n",
    "def healthcheck():\n",
    "    return 'SGDClassifier is all ready to go!'"
   ]
  },
  {
   "cell_type": "markdown",
   "metadata": {
    "id": "_Xbp4Hf5df2d"
   },
   "source": [
    "**[3.8]** Inside the `main.py` file, create a function called `format_features()` with `genre`,\t`age`, `income` and `spending` as input parameters that will return a dictionary with the names of the features as keys and the inpot parameters as lists"
   ]
  },
  {
   "cell_type": "code",
   "execution_count": null,
   "metadata": {
    "id": "PVerBBrBdf-T"
   },
   "outputs": [],
   "source": [
    "# Placeholder for student's code (Python code)"
   ]
  },
  {
   "cell_type": "code",
   "execution_count": null,
   "metadata": {
    "id": "b2hB1vjbdgAs"
   },
   "outputs": [],
   "source": [
    "# Solution:\n",
    "def format_features(\n",
    "    general_health: str,\n",
    "    checkup: str,\n",
    "    exercise: str,\n",
    "    heart_disease: str,\n",
    "    skin_cancer: str,\n",
    "    other_cancer: str,\n",
    "    depression: str,\n",
    "    diabetes: str,\n",
    "    arthritis: str,\n",
    "    sex: str,\n",
    "    age_category: str,\n",
    "    height: float,\n",
    "    weight: float,\n",
    "    bmi: float,\n",
    "    smoking_history: str,\n",
    "    alcohol_consumption: float,\n",
    "    fruit_consumption: float,\n",
    "    green_vegetables_consumption: float,\n",
    "    friedpotato_consumption: float,\n",
    "    ):\n",
    "    return {\n",
    "        'General_Health': [general_health],\n",
    "        'Checkup': [checkup],\n",
    "        'Exercise': [exercise],\n",
    "        'Heart_Disease': [heart_disease],\n",
    "        'Skin_Cancer': [skin_cancer],\n",
    "        'Other_Cancer': [other_cancer],\n",
    "        'Depression': [depression],\n",
    "        'Diabetes': [diabetes],\n",
    "        'Arthritis': [arthritis],\n",
    "        'Sex': [sex],\n",
    "        'Age_Category': [age_category],\n",
    "        'Height_(cm)': [height],\n",
    "        'Weight_(kg)': [weight],\n",
    "        'BMI': [bmi],\n",
    "        'Smoking_History': [smoking_history],\n",
    "        'Alcohol_Consumption': [alcohol_consumption],\n",
    "        'Fruit_Consumption': [fruit_consumption],\n",
    "        'Green_Vegetables_Consumption': [green_vegetables_consumption],\n",
    "        'FriedPotato_Consumption': [friedpotato_consumption]\n",
    "    }"
   ]
  },
  {
   "cell_type": "markdown",
   "metadata": {
    "id": "1MUQBuVsfhEx"
   },
   "source": [
    "**[3.9]** Inside the `main.py` file, Define a function called `predict` with the following logics:\n",
    "- input parameters: `general_health`,\n",
    "    `checkup`,\n",
    "    `exercise`,\n",
    "    `heart_disease`,\n",
    "    `skin_cancer`,\n",
    "    `other_cancer`,\n",
    "    `depression`,\n",
    "    `diabetes`,\n",
    "    `arthritis`,\n",
    "    `sex`,\n",
    "    `age_category`,\n",
    "    `height`,\n",
    "    `weight`,\n",
    "    `bmi`,\n",
    "    `smoking_history`,\n",
    "    `alcohol_consumption`,\n",
    "    `fruit_consumption`,\n",
    "    `green_vegetables_consumption`,\n",
    "    `friedpotato_consumption`\n",
    "- logics: format the input parameters as dict, convert it to a dataframe and make prediction with `sgd_pipe`\n",
    "- output: prediction as json\n",
    "\n",
    "Add a decorator to it in order to add a GET endpoint to `app` on `/cvd/risks/prediction`"
   ]
  },
  {
   "cell_type": "code",
   "execution_count": null,
   "metadata": {
    "id": "cguIH80afhLV"
   },
   "outputs": [],
   "source": [
    "# Placeholder for student's code (Python code)"
   ]
  },
  {
   "cell_type": "code",
   "execution_count": null,
   "metadata": {
    "id": "xQrzjhoffhNy"
   },
   "outputs": [],
   "source": [
    "# Solution:\n",
    "@app.get(\"/cvd/risks/prediction\")\n",
    "def predict(\n",
    "    general_health: str,\n",
    "    checkup: str,\n",
    "    exercise: str,\n",
    "    heart_disease: str,\n",
    "    skin_cancer: str,\n",
    "    other_cancer: str,\n",
    "    depression: str,\n",
    "    diabetes: str,\n",
    "    arthritis: str,\n",
    "    sex: str,\n",
    "    age_category: str,\n",
    "    height: float,\n",
    "    weight: float,\n",
    "    bmi: float,\n",
    "    smoking_history: str,\n",
    "    alcohol_consumption: float,\n",
    "    fruit_consumption: float,\n",
    "    green_vegetables_consumption: float,\n",
    "    friedpotato_consumption: float,\n",
    "):\n",
    "    features = format_features(\n",
    "        general_health,\n",
    "        checkup,\n",
    "        exercise,\n",
    "        heart_disease,\n",
    "        skin_cancer,\n",
    "        other_cancer,\n",
    "        depression,\n",
    "        diabetes,\n",
    "        arthritis,\n",
    "        sex,\n",
    "        age_category,\n",
    "        height,\n",
    "        weight,\n",
    "        bmi,\n",
    "        smoking_history,\n",
    "        alcohol_consumption,\n",
    "        fruit_consumption,\n",
    "        green_vegetables_consumption,\n",
    "        friedpotato_consumption\n",
    "        )\n",
    "    obs = pd.DataFrame(features)\n",
    "    pred = sgd_pipe.predict(obs)\n",
    "    return JSONResponse(pred.tolist())"
   ]
  },
  {
   "cell_type": "markdown",
   "metadata": {
    "id": "C8GqJloHgzMb"
   },
   "source": [
    "**[3.10]** Add you changes to git staging area and commit them"
   ]
  },
  {
   "cell_type": "code",
   "execution_count": null,
   "metadata": {
    "id": "832lVk4PgzUF"
   },
   "outputs": [],
   "source": [
    "# Placeholder for student's code (command line)"
   ]
  },
  {
   "cell_type": "code",
   "execution_count": null,
   "metadata": {
    "id": "-vmWigctgzXL"
   },
   "outputs": [],
   "source": [
    "# Solution:\n",
    "git add .\n",
    "git commit -m \"init\""
   ]
  },
  {
   "cell_type": "markdown",
   "metadata": {
    "id": "zO4u0GI-hTOc"
   },
   "source": [
    "**[3.11** Launch the FastAPI app"
   ]
  },
  {
   "cell_type": "code",
   "execution_count": null,
   "metadata": {
    "id": "c5sRr-QchTXz"
   },
   "outputs": [],
   "source": [
    "# Placeholder for student's code (command line)"
   ]
  },
  {
   "cell_type": "code",
   "execution_count": null,
   "metadata": {
    "id": "n-15O-bChTbD"
   },
   "outputs": [],
   "source": [
    "# Solution:\n",
    "poetry run fastapi dev app/main.py"
   ]
  },
  {
   "cell_type": "markdown",
   "metadata": {
    "id": "egVyUhuUXmu-"
   },
   "source": [
    "### 4. Interact with FastAPI"
   ]
  },
  {
   "cell_type": "markdown",
   "metadata": {
    "id": "tByfFCRyhv_r"
   },
   "source": [
    "**[4.1]** Open a browser and navigate through:\n",
    "\n",
    "http://127.0.0.1:8000/\n",
    "\n",
    "http://127.0.0.1:8000/health\n",
    "\n",
    "http://127.0.0.1:8000/docs"
   ]
  },
  {
   "cell_type": "markdown",
   "metadata": {
    "id": "UC-dXvpEjmVn"
   },
   "source": [
    "**[4.2]** Close the FastAPI app"
   ]
  },
  {
   "cell_type": "markdown",
   "metadata": {
    "id": "1yX0Ocg4hcZM"
   },
   "source": [
    "### 5.   Push changes"
   ]
  },
  {
   "cell_type": "markdown",
   "metadata": {
    "id": "Y9FciIQZj7nX"
   },
   "source": [
    "**[5.1]** Push your snapshot to Github"
   ]
  },
  {
   "cell_type": "code",
   "execution_count": null,
   "metadata": {
    "id": "IR7i6D5hj7uO"
   },
   "outputs": [],
   "source": [
    "# Placeholder for student's code (command line)"
   ]
  },
  {
   "cell_type": "code",
   "execution_count": null,
   "metadata": {
    "id": "WaVAgJ4Aj7wi"
   },
   "outputs": [],
   "source": [
    "# Solution:\n",
    "git push"
   ]
  },
  {
   "cell_type": "markdown",
   "metadata": {
    "id": "d7a6bwMniAs1"
   },
   "source": [
    "**[5.2]** Check out to the master branch"
   ]
  },
  {
   "cell_type": "code",
   "execution_count": null,
   "metadata": {
    "id": "eM9v_33XiA1I"
   },
   "outputs": [],
   "source": [
    "# Placeholder for student's code (command line)"
   ]
  },
  {
   "cell_type": "code",
   "execution_count": null,
   "metadata": {
    "id": "d6-AI0x7iA4M"
   },
   "outputs": [],
   "source": [
    "# Solution:\n",
    "git checkout master"
   ]
  },
  {
   "cell_type": "markdown",
   "metadata": {
    "id": "v98Ka9kNiBLw"
   },
   "source": [
    "**[5.3]** Pull the latest updates"
   ]
  },
  {
   "cell_type": "code",
   "execution_count": null,
   "metadata": {
    "id": "yNZb1PyEjIOP"
   },
   "outputs": [],
   "source": [
    "# Placeholder for student's code (command line)"
   ]
  },
  {
   "cell_type": "code",
   "execution_count": null,
   "metadata": {
    "id": "5TJAEYxPjIRS"
   },
   "outputs": [],
   "source": [
    "git pull"
   ]
  },
  {
   "cell_type": "markdown",
   "metadata": {
    "id": "IIjhYFaMEvqD"
   },
   "source": [
    "**[5.4]** Check out to the `sgd_fastapi` branch"
   ]
  },
  {
   "cell_type": "code",
   "execution_count": null,
   "metadata": {
    "id": "FxYediRaEvwp"
   },
   "outputs": [],
   "source": [
    "# Placeholder for student's code (command line)"
   ]
  },
  {
   "cell_type": "code",
   "execution_count": null,
   "metadata": {
    "id": "Db_lceBWEvzZ"
   },
   "outputs": [],
   "source": [
    "# Solution:\n",
    "git checkout sgd_fastapi"
   ]
  },
  {
   "cell_type": "markdown",
   "metadata": {
    "id": "pGd3Xdx-jJDk"
   },
   "source": [
    "**[5.5]** Merge the `master` branch and push your changes\n"
   ]
  },
  {
   "cell_type": "code",
   "execution_count": null,
   "metadata": {
    "id": "aEYg8wauiBUb"
   },
   "outputs": [],
   "source": [
    "# Placeholder for student's code (command line)"
   ]
  },
  {
   "cell_type": "code",
   "execution_count": null,
   "metadata": {
    "id": "YNZunyVsiBXd"
   },
   "outputs": [],
   "source": [
    "# Solution:\n",
    "git merge master\n",
    "git push"
   ]
  },
  {
   "cell_type": "markdown",
   "metadata": {
    "id": "8B98cSvWkB-x"
   },
   "source": [
    "**[5.6]** Go to Github and merge the branch after reviewing the code and fixing any conflict\n",
    "\n",
    "\n"
   ]
  }
 ],
 "metadata": {
  "colab": {
   "provenance": []
  },
  "kernelspec": {
   "display_name": "Python 3 (ipykernel)",
   "language": "python",
   "name": "python3"
  },
  "language_info": {
   "codemirror_mode": {
    "name": "ipython",
    "version": 3
   },
   "file_extension": ".py",
   "mimetype": "text/x-python",
   "name": "python",
   "nbconvert_exporter": "python",
   "pygments_lexer": "ipython3",
   "version": "3.11.4"
  }
 },
 "nbformat": 4,
 "nbformat_minor": 4
}
